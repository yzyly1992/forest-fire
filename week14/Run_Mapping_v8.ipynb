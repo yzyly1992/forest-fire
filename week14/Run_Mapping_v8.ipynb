{
 "cells": [
  {
   "cell_type": "code",
   "execution_count": null,
   "id": "1d21c154-5bfa-43fb-b357-81d70d5e7871",
   "metadata": {},
   "outputs": [],
   "source": [
    "# step 1: install yolov8\n",
    "%pip install ultralytics\n",
    "import ultralytics\n",
    "ultralytics.checks()"
   ]
  },
  {
   "cell_type": "code",
   "execution_count": null,
   "id": "76369fe7-32fd-463d-81e2-38f576222872",
   "metadata": {},
   "outputs": [],
   "source": [
    "# step 2: predict images with trained yolov8\n",
    "from ultralytics import YOLO\n",
    "# Load a model\n",
    "model = YOLO(\"yolov8l.pt\")  # load an official model\n",
    "model = YOLO(\"model/yolov8l-best.pt\")  # load a custom model\n",
    "\n",
    "# predict with the model\n",
    "# adjust image folder path accordingly\n",
    "results = model.predict(source=\"./datasets/ForestFire2023-5/test/images\", conf=0.25, save_txt=True, save_conf=True, save=True)  # predict on an image"
   ]
  },
  {
   "cell_type": "code",
   "execution_count": null,
   "id": "4e46b9b3-d633-4f53-96f6-3c6da4332371",
   "metadata": {},
   "outputs": [],
   "source": [
    "# step 3: run mapping code\n",
    "%cd ./ForestMapping\n",
    "!python3 ./main.py --images-path ./datasets/ForestFire2023-5/test/images --labels-path ../yolov8/runs/detect/predict/labels --out-path output  --distance  50"
   ]
  }
 ],
 "metadata": {
  "kernelspec": {
   "display_name": "Python 3",
   "language": "python",
   "name": "python3"
  },
  "language_info": {
   "codemirror_mode": {
    "name": "ipython",
    "version": 3
   },
   "file_extension": ".py",
   "mimetype": "text/x-python",
   "name": "python",
   "nbconvert_exporter": "python",
   "pygments_lexer": "ipython3",
   "version": "3.8.8"
  }
 },
 "nbformat": 4,
 "nbformat_minor": 5
}
