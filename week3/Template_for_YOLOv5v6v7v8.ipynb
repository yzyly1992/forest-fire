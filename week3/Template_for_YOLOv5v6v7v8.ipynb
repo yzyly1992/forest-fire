{
  "cells": [
    {
      "cell_type": "markdown",
      "metadata": {
        "id": "REKLIH8z4atK"
      },
      "source": [
        "## Step 1: Get YOLO Ready"
      ]
    },
    {
      "cell_type": "code",
      "execution_count": null,
      "metadata": {
        "id": "lcbJZhLF6WlB"
      },
      "outputs": [],
      "source": [
        "# clone YOLOv5 repo\n",
        "!git clone https://github.com/ultralytics/yolov5\n",
        "%cd yolov5"
      ]
    },
    {
      "cell_type": "code",
      "execution_count": null,
      "metadata": {
        "id": "x6k1qCSu0Z_y"
      },
      "outputs": [],
      "source": [
        "# clone YOLOv6 repo\n",
        "!git clone https://github.com/meituan/YOLOv6\n",
        "%cd YOLOv6"
      ]
    },
    {
      "cell_type": "code",
      "execution_count": null,
      "metadata": {
        "id": "KOpcngZG004J"
      },
      "outputs": [],
      "source": [
        "# clone YOLOv7 repo\n",
        "!git clone https://github.com/WongKinYiu/yolov7\n",
        "%cd yolov7"
      ]
    },
    {
      "cell_type": "code",
      "execution_count": null,
      "metadata": {
        "id": "yBXOq4AkyPqC"
      },
      "outputs": [],
      "source": [
        "# for YOLO v5 v6 v7\n",
        "# install required dependencies\n",
        "%pip install -qr requirements.txt\n",
        "\n",
        "# import required libraries\n",
        "import torch\n",
        "\n",
        "# check pytorch version, CUDA version and GPU model\n",
        "print(f\"Setup complete. Using torch {torch.__version__} ({torch.cuda.get_device_properties(0).name if torch.cuda.is_available() else 'CPU'})\")"
      ]
    },
    {
      "cell_type": "code",
      "execution_count": null,
      "metadata": {
        "id": "GjcQxHil2Qh8"
      },
      "outputs": [],
      "source": [
        "# for YOLOv8 only\n",
        "%pip install ultralytics\n",
        "import ultralytics\n",
        "ultralytics.checks()"
      ]
    },
    {
      "cell_type": "markdown",
      "metadata": {
        "id": "Rbj-m3EN4x1d"
      },
      "source": [
        "## Step 2: Download Dataset"
      ]
    },
    {
      "cell_type": "code",
      "execution_count": null,
      "metadata": {
        "id": "NGVjG4EwvPF6"
      },
      "outputs": [],
      "source": [
        "# YOLOv5 YOLOv7 YOLOv8 have the same dataset structure\n",
        "# install and import roboflow\n",
        "%pip install -q roboflow\n",
        "from roboflow import Roboflow\n",
        "import os\n",
        "\n",
        "# set up environment\n",
        "os.environ[\"DATASET_DIRECTORY\"] = \"../datasets\"\n",
        "\n",
        "# download dataset from roboflow for specific yolo version\n",
        "rf = Roboflow(api_key=\"VjyizEwlgGPXFO7JMvyw\")\n",
        "project = rf.workspace(\"forest-fire\").project(\"second-annotation-for-trees\")\n",
        "dataset = project.version(8).download(\"yolov5\")"
      ]
    },
    {
      "cell_type": "code",
      "execution_count": null,
      "metadata": {
        "id": "H5ifasBT4XmI"
      },
      "outputs": [],
      "source": [
        "# For YOLOv6 only, run above code first, then run this code\n",
        "%cd ../datasets/Second-Annotation-For-Trees-8/\n",
        "%mkdir images\n",
        "%mkdir labels\n",
        "%mv test/labels labels/test\n",
        "%mv train/labels labels/train\n",
        "%mv valid/labels labels/valid\n",
        "%mv test/images images/test\n",
        "%mv train/images images/train\n",
        "%mv valid/images images/valid\n",
        "%cd ../../YOLOv6/\n",
        "\n",
        "# For YOLOv6 only, finally, adjust data.yaml file (at ../datasets/Second-Annotation-For-Trees-8) as followed:\n",
        "\n",
        "# nc: 2\n",
        "# names: ['Alive Tree', 'Dead Tree']\n",
        "# train: ../datasets/Second-Annotation-For-Trees-8/images/train\n",
        "# val: ../datasets/Second-Annotation-For-Trees-8/images/valid\n",
        "# test: ../datasets/Second-Annotation-For-Trees-8/images/test"
      ]
    },
    {
      "cell_type": "markdown",
      "metadata": {
        "id": "BNTImbSv5Hjt"
      },
      "source": [
        "## Step 3: Train YOLO Model with Dataset"
      ]
    },
    {
      "cell_type": "code",
      "execution_count": null,
      "metadata": {
        "id": "tVb8YpN31ZSl"
      },
      "outputs": [],
      "source": [
        "# train model YOLOv5\n",
        "!python train.py --img 640 --batch 32 --epochs 3 --data ../datasets/Second-Annotation-For-Trees-8/data.yaml --weights yolov5s.pt --cache"
      ]
    },
    {
      "cell_type": "code",
      "execution_count": null,
      "metadata": {
        "id": "jAprzgTZ5yHS"
      },
      "outputs": [],
      "source": [
        "# train model YOLOv6\n",
        "!python tools/train.py --img 640 --batch 32 --epochs 3 --data ../datasets/Second-Annotation-For-Trees-8/data.yaml --conf configs/yolov6s_finetune.py"
      ]
    },
    {
      "cell_type": "code",
      "execution_count": null,
      "metadata": {
        "id": "bXcGPaNs7cGV"
      },
      "outputs": [],
      "source": [
        "# train model YOLOv7\n",
        "!wget https://github.com/WongKinYiu/yolov7/releases/download/v0.1/yolov7.pt\n",
        "!python train.py --workers 2 --device 0 --batch-size 32 --epochs 1 --data ../datasets/Second-Annotation-For-Trees-8/data.yaml --img 640 640 --weights 'yolov7.pt' --name yolov7-custom --hyp data/hyp.scratch.custom.yaml"
      ]
    },
    {
      "cell_type": "code",
      "execution_count": null,
      "metadata": {
        "id": "OyhZ5Ta5-Ft_"
      },
      "outputs": [],
      "source": [
        "# train model YOLOv8\n",
        "!yolo train model=yolov8n.pt data='../datasets/Second-Annotation-For-Trees-8/data.yaml' epochs=3 imgsz=640"
      ]
    },
    {
      "cell_type": "code",
      "execution_count": null,
      "metadata": {
        "id": "r78XCZo7vScI"
      },
      "outputs": [],
      "source": [
        "# Tensorboard (optional)\n",
        "%reload_ext tensorboard\n",
        "%tensorboard --logdir runs/train"
      ]
    },
    {
      "cell_type": "markdown",
      "metadata": {
        "id": "htOXmgT8AB7w"
      },
      "source": [
        "## Step 4: Predict on Test Dataset"
      ]
    },
    {
      "cell_type": "code",
      "execution_count": null,
      "metadata": {
        "id": "rP98Z6-wvVLc"
      },
      "outputs": [],
      "source": [
        "# test model YOLOv5\n",
        "!python detect.py --weights runs/train/exp/weights/best.pt --img 640 --conf 0.25 --source ../datasets/Second-Annotation-For-Trees-8/test/images "
      ]
    },
    {
      "cell_type": "code",
      "execution_count": null,
      "metadata": {
        "id": "IxfPdxr4Ao9s"
      },
      "outputs": [],
      "source": [
        "# test model YOLOv6\n",
        "!python tools/infer.py --weights runs/train/exp1/weights/best_ckpt.pt --img 640 --conf 0.25 --source ../datasets/Second-Annotation-For-Trees-8/images/test"
      ]
    },
    {
      "cell_type": "code",
      "execution_count": null,
      "metadata": {
        "id": "4-gbVhsCAriu"
      },
      "outputs": [],
      "source": [
        "# test model YOLOv7\n",
        "!python detect.py --weights runs/train/exp/weights/best.pt --img 640 --conf 0.25 --source ../datasets/Second-Annotation-For-Trees-8/test/images "
      ]
    },
    {
      "cell_type": "code",
      "execution_count": null,
      "metadata": {
        "id": "UNFEaOs6As5p"
      },
      "outputs": [],
      "source": [
        "# test model YOLOv8\n",
        "from ultralytics import YOLO\n",
        "# Load a model\n",
        "model = YOLO(\"yolov8n.pt\")  # load an official model\n",
        "model = YOLO(\"runs/detect/train/weights/best.pt\")  # load a custom model\n",
        "\n",
        "# Predict with the model\n",
        "results = model.predict(source=\"../datasets/Second-Annotation-For-Trees-8/test/images\", conf=0.25, save=True)  # predict on an image"
      ]
    },
    {
      "cell_type": "code",
      "execution_count": null,
      "metadata": {
        "colab": {
          "base_uri": "https://localhost:8080/",
          "height": 17
        },
        "id": "CC9DO1buvXmW",
        "outputId": "39a63c0e-bbdc-4134-a0d8-54eaea00e589"
      },
      "outputs": [
        {
          "data": {
            "application/javascript": "\n    async function download(id, filename, size) {\n      if (!google.colab.kernel.accessAllowed) {\n        return;\n      }\n      const div = document.createElement('div');\n      const label = document.createElement('label');\n      label.textContent = `Downloading \"${filename}\": `;\n      div.appendChild(label);\n      const progress = document.createElement('progress');\n      progress.max = size;\n      div.appendChild(progress);\n      document.body.appendChild(div);\n\n      const buffers = [];\n      let downloaded = 0;\n\n      const channel = await google.colab.kernel.comms.open(id);\n      // Send a message to notify the kernel that we're ready.\n      channel.send({})\n\n      for await (const message of channel.messages) {\n        // Send a message to notify the kernel that we're ready.\n        channel.send({})\n        if (message.buffers) {\n          for (const buffer of message.buffers) {\n            buffers.push(buffer);\n            downloaded += buffer.byteLength;\n            progress.value = downloaded;\n          }\n        }\n      }\n      const blob = new Blob(buffers, {type: 'application/binary'});\n      const a = document.createElement('a');\n      a.href = window.URL.createObjectURL(blob);\n      a.download = filename;\n      div.appendChild(a);\n      a.click();\n      div.remove();\n    }\n  ",
            "text/plain": [
              "<IPython.core.display.Javascript object>"
            ]
          },
          "metadata": {},
          "output_type": "display_data"
        },
        {
          "data": {
            "application/javascript": "download(\"download_cbafd7b9-8636-41d1-8adc-4bc1f643efcb\", \"best.pt\", 14302773)",
            "text/plain": [
              "<IPython.core.display.Javascript object>"
            ]
          },
          "metadata": {},
          "output_type": "display_data"
        }
      ],
      "source": [
        "# download your model weights from some/path/to/best.pt"
      ]
    }
  ],
  "metadata": {
    "accelerator": "GPU",
    "colab": {
      "machine_shape": "hm",
      "provenance": []
    },
    "kernelspec": {
      "display_name": "Python 3",
      "language": "python",
      "name": "python3"
    },
    "language_info": {
      "name": "python",
      "version": "3.10.2"
    },
    "vscode": {
      "interpreter": {
        "hash": "aee8b7b246df8f9039afb4144a1f6fd8d2ca17a180786b69acc140d282b71a49"
      }
    }
  },
  "nbformat": 4,
  "nbformat_minor": 0
}
