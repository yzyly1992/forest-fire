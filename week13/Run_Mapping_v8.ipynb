{
 "cells": [
  {
   "cell_type": "code",
   "execution_count": 1,
   "id": "1d21c154-5bfa-43fb-b357-81d70d5e7871",
   "metadata": {},
   "outputs": [
    {
     "name": "stderr",
     "output_type": "stream",
     "text": [
      "Ultralytics YOLOv8.0.39 🚀 Python-3.8.8 torch-1.12.1+cu102 CUDA:0 (Tesla V100-SXM2-32GB, 32511MiB)\n",
      "Setup complete ✅ (28 CPUs, 187.4 GB RAM, 6.8/19.5 GB disk)\n"
     ]
    }
   ],
   "source": [
    "# for YOLOv8 only\n",
    "%pip install ultralytics\n",
    "import ultralytics\n",
    "ultralytics.checks()"
   ]
  },
  {
   "cell_type": "code",
   "execution_count": 2,
   "id": "76369fe7-32fd-463d-81e2-38f576222872",
   "metadata": {},
   "outputs": [
    {
     "name": "stdout",
     "output_type": "stream",
     "text": [
      "/home/yang.zhiyu/ForestFire/yolov8\n"
     ]
    },
    {
     "name": "stderr",
     "output_type": "stream",
     "text": [
      "Ultralytics YOLOv8.0.39 🚀 Python-3.8.8 torch-1.12.1+cu102 CUDA:0 (Tesla V100-SXM2-32GB, 32511MiB)\n",
      "Model summary (fused): 268 layers, 43609692 parameters, 0 gradients, 164.8 GFLOPs\n",
      "\n",
      "image 1/80 /home/yang.zhiyu/ForestFire/datasets/ForestFire2023-4/test/images/-0UHnjg7w6P_jpg.rf.ab573c6b69e49b9b794cafaa3c40b20f.jpg: 1024x1024 6 Alive Trees, 1 Dead Tree, 33.2ms\n",
      "image 2/80 /home/yang.zhiyu/ForestFire/datasets/ForestFire2023-4/test/images/-_yeAvl5YMH_jpg.rf.5c511e2b1eb0d54d4195f504efd561f9.jpg: 1024x1024 27 Alive Trees, 5 Dead Trees, 23 Debriss, 32.6ms\n",
      "image 3/80 /home/yang.zhiyu/ForestFire/datasets/ForestFire2023-4/test/images/0AEOk1Wzbp1_jpg.rf.c421481555469b2c872dbf69ed922144.jpg: 1024x1024 21 Alive Trees, 4 Dead Trees, 4 Debriss, 32.8ms\n",
      "image 4/80 /home/yang.zhiyu/ForestFire/datasets/ForestFire2023-4/test/images/0YebmVr8QYj_jpg.rf.ef5e4bae48311576daa298b253dbefe4.jpg: 1024x1024 38 Alive Trees, 1 Beetle-Fire Tree, 17 Dead Trees, 2 Debriss, 32.7ms\n",
      "image 5/80 /home/yang.zhiyu/ForestFire/datasets/ForestFire2023-4/test/images/5CxHiu5hUQm_jpg.rf.2d122a7a06d54a6dc8b0162c5299e747.jpg: 1024x1024 26 Alive Trees, 3 Dead Trees, 32.9ms\n",
      "image 6/80 /home/yang.zhiyu/ForestFire/datasets/ForestFire2023-4/test/images/6VjyHQlINTR_jpg.rf.9c03e1424c81fd52bcd3b9fd00e6db61.jpg: 1024x1024 41 Alive Trees, 17 Dead Trees, 32.8ms\n",
      "image 7/80 /home/yang.zhiyu/ForestFire/datasets/ForestFire2023-4/test/images/7O5fx94TIw_jpg.rf.9bbbb7b8608abd55d92760b6e77e002b.jpg: 1024x1024 26 Alive Trees, 4 Debriss, 32.8ms\n",
      "image 8/80 /home/yang.zhiyu/ForestFire/datasets/ForestFire2023-4/test/images/AeRvllbBTi_jpg.rf.5486035f4ea3376d0911ffff074b586b.jpg: 1024x1024 37 Alive Trees, 1 Beetle-Fire Tree, 16 Dead Trees, 32.8ms\n",
      "image 9/80 /home/yang.zhiyu/ForestFire/datasets/ForestFire2023-4/test/images/AhmHM0YdoL_jpg.rf.51f486a6911d856078adce546c335846.jpg: 1024x1024 53 Alive Trees, 39 Beetle-Fire Trees, 6 Dead Trees, 2 Debriss, 32.8ms\n",
      "image 10/80 /home/yang.zhiyu/ForestFire/datasets/ForestFire2023-4/test/images/DJI_0001_JPG.rf.099083eb2e170519b6a35a1daa990760.jpg: 1024x1024 35 Alive Trees, 7 Dead Trees, 2 Debriss, 32.7ms\n",
      "image 11/80 /home/yang.zhiyu/ForestFire/datasets/ForestFire2023-4/test/images/DJI_0003_JPG.rf.916ac6a286ae16003b4751614498534f.jpg: 1024x1024 60 Alive Trees, 1 Beetle-Fire Tree, 5 Dead Trees, 7 Debriss, 32.9ms\n",
      "image 12/80 /home/yang.zhiyu/ForestFire/datasets/ForestFire2023-4/test/images/DJI_0004_JPG.rf.267fe17410ccce1f7b824c264fadc4d5.jpg: 1024x1024 46 Alive Trees, 2 Beetle-Fire Trees, 4 Dead Trees, 16 Debriss, 32.7ms\n",
      "image 13/80 /home/yang.zhiyu/ForestFire/datasets/ForestFire2023-4/test/images/DJI_0004_JPG.rf.b3ca9cca7fc734be1de4b1c6f3972b1e.jpg: 1024x1024 53 Alive Trees, 29 Dead Trees, 32.8ms\n",
      "image 14/80 /home/yang.zhiyu/ForestFire/datasets/ForestFire2023-4/test/images/DJI_0005_JPG.rf.63a252fec6d7fdce5879be4a35f1f71b.jpg: 1024x1024 17 Alive Trees, 32.8ms\n",
      "image 15/80 /home/yang.zhiyu/ForestFire/datasets/ForestFire2023-4/test/images/DJI_0006_JPG.rf.af4f9710726b2845f83dc427eef52587.jpg: 1024x1024 49 Alive Trees, 1 Beetle-Fire Tree, 5 Dead Trees, 2 Debriss, 32.9ms\n",
      "image 16/80 /home/yang.zhiyu/ForestFire/datasets/ForestFire2023-4/test/images/DJI_0007_JPG.rf.c8e8366f446d16aea88183eb8eca9b0b.jpg: 1024x1024 55 Alive Trees, 1 Beetle-Fire Tree, 9 Dead Trees, 3 Debriss, 32.9ms\n",
      "image 17/80 /home/yang.zhiyu/ForestFire/datasets/ForestFire2023-4/test/images/DJI_0009_JPG.rf.e069cd67103b87c031e294d5d040e9a7.jpg: 1024x1024 47 Alive Trees, 6 Debriss, 32.7ms\n",
      "image 18/80 /home/yang.zhiyu/ForestFire/datasets/ForestFire2023-4/test/images/DJI_0010_JPG.rf.fe739da82ea2bf6d997b3d13a80142ac.jpg: 1024x1024 23 Alive Trees, 1 Dead Tree, 13 Debriss, 32.9ms\n",
      "image 19/80 /home/yang.zhiyu/ForestFire/datasets/ForestFire2023-4/test/images/DJI_0011_JPG.rf.36e417976ec54466c93978963ae5f983.jpg: 1024x1024 29 Alive Trees, 1 Beetle-Fire Tree, 1 Dead Tree, 5 Debriss, 33.0ms\n",
      "image 20/80 /home/yang.zhiyu/ForestFire/datasets/ForestFire2023-4/test/images/DJI_0012_JPG.rf.6cf1a22ba6fa1976910fea232152da91.jpg: 1024x1024 60 Alive Trees, 2 Beetle-Fire Trees, 5 Dead Trees, 7 Debriss, 32.6ms\n",
      "image 21/80 /home/yang.zhiyu/ForestFire/datasets/ForestFire2023-4/test/images/DJI_0014_JPG.rf.5386c0e8e2ee9f4dcbc254ad7d79fd7f.jpg: 1024x1024 20 Alive Trees, 2 Beetle-Fire Trees, 2 Dead Trees, 10 Debriss, 32.7ms\n",
      "image 22/80 /home/yang.zhiyu/ForestFire/datasets/ForestFire2023-4/test/images/DJI_0015_JPG.rf.34509d76608fa215f5252c7dfa9452c9.jpg: 1024x1024 30 Alive Trees, 3 Beetle-Fire Trees, 7 Dead Trees, 4 Debriss, 32.9ms\n",
      "image 23/80 /home/yang.zhiyu/ForestFire/datasets/ForestFire2023-4/test/images/DJI_0018_JPG.rf.0b371ae4bb83632c165fac22a364dda0.jpg: 1024x1024 4 Alive Trees, 25 Dead Trees, 1 Debris, 32.8ms\n",
      "image 24/80 /home/yang.zhiyu/ForestFire/datasets/ForestFire2023-4/test/images/DJI_0019_JPG.rf.0623af06184c1b5c324f210a2d0d939b.jpg: 1024x1024 10 Alive Trees, 15 Dead Trees, 4 Debriss, 32.7ms\n",
      "image 25/80 /home/yang.zhiyu/ForestFire/datasets/ForestFire2023-4/test/images/DJI_0020_JPG.rf.e53dd7228d20d1fd7189420e9c56fd58.jpg: 1024x1024 21 Alive Trees, 21 Dead Trees, 7 Debriss, 32.7ms\n",
      "image 26/80 /home/yang.zhiyu/ForestFire/datasets/ForestFire2023-4/test/images/DJI_0059_JPG.rf.a7f014ebf607d46413344dc9dbb06f93.jpg: 1024x1024 42 Alive Trees, 33 Dead Trees, 32.7ms\n",
      "image 27/80 /home/yang.zhiyu/ForestFire/datasets/ForestFire2023-4/test/images/DJI_0077_JPG.rf.53f7e88fcf825dc02975d9a6e94087a8.jpg: 1024x1024 17 Dead Trees, 32.7ms\n",
      "image 28/80 /home/yang.zhiyu/ForestFire/datasets/ForestFire2023-4/test/images/DJI_0083_JPG.rf.b76045f8bea07450ab6a3ab139f7a76f.jpg: 1024x1024 9 Dead Trees, 33.1ms\n",
      "image 29/80 /home/yang.zhiyu/ForestFire/datasets/ForestFire2023-4/test/images/DJI_0103_JPG.rf.44eceebac3d6b9da61d51ef516fbd59f.jpg: 1024x1024 20 Dead Trees, 33.1ms\n",
      "image 30/80 /home/yang.zhiyu/ForestFire/datasets/ForestFire2023-4/test/images/DJI_0120_JPG.rf.5968a3f6d4ecc57acce330d06ed81892.jpg: 1024x1024 21 Dead Trees, 32.9ms\n",
      "image 31/80 /home/yang.zhiyu/ForestFire/datasets/ForestFire2023-4/test/images/DJI_0125_JPG.rf.bced8d35906742088e60c3805872fed8.jpg: 1024x1024 30 Dead Trees, 32.8ms\n",
      "image 32/80 /home/yang.zhiyu/ForestFire/datasets/ForestFire2023-4/test/images/DJI_0135_JPG.rf.7ac223705ba83a174ca4d85e8461f179.jpg: 1024x1024 19 Dead Trees, 32.2ms\n",
      "image 33/80 /home/yang.zhiyu/ForestFire/datasets/ForestFire2023-4/test/images/DJI_0136_JPG.rf.91f587d133c5932d9a774471c2aba4ca.jpg: 1024x1024 16 Dead Trees, 32.5ms\n",
      "image 34/80 /home/yang.zhiyu/ForestFire/datasets/ForestFire2023-4/test/images/DJI_0139_JPG.rf.1d8b61696c967a58a4a20aa3c249d319.jpg: 1024x1024 174 Alive Trees, 7 Dead Trees, 32.3ms\n",
      "image 35/80 /home/yang.zhiyu/ForestFire/datasets/ForestFire2023-4/test/images/DJI_0142_JPG.rf.2abc17381c633670edc9f78dbaf4971b.jpg: 1024x1024 1 Alive Tree, 11 Dead Trees, 32.3ms\n",
      "image 36/80 /home/yang.zhiyu/ForestFire/datasets/ForestFire2023-4/test/images/DJI_0144_JPG.rf.8e8f171534d87a7e51bc783081db69ff.jpg: 1024x1024 9 Dead Trees, 32.4ms\n",
      "image 37/80 /home/yang.zhiyu/ForestFire/datasets/ForestFire2023-4/test/images/DJI_0150_JPG.rf.3c687e8b23e913a9d9b48e149a2e32ae.jpg: 1024x1024 30 Dead Trees, 32.3ms\n",
      "image 38/80 /home/yang.zhiyu/ForestFire/datasets/ForestFire2023-4/test/images/DJI_0154_JPG.rf.bf27e7f5b4450633124daef6c8c06737.jpg: 1024x1024 24 Dead Trees, 32.3ms\n",
      "image 39/80 /home/yang.zhiyu/ForestFire/datasets/ForestFire2023-4/test/images/DJI_0156_JPG.rf.787c21f415d3f4843bf721af4b1b103f.jpg: 1024x1024 22 Dead Trees, 32.2ms\n",
      "image 40/80 /home/yang.zhiyu/ForestFire/datasets/ForestFire2023-4/test/images/DJI_0642_JPG.rf.98da6bae637b2759e517cb39d5f1ed5d.jpg: 1024x1024 31 Alive Trees, 1 Debris, 32.2ms\n",
      "image 41/80 /home/yang.zhiyu/ForestFire/datasets/ForestFire2023-4/test/images/DJI_0679_JPG.rf.dd5a1786bb53815c73c6b46a28d2e646.jpg: 1024x1024 23 Alive Trees, 2 Debriss, 32.1ms\n",
      "image 42/80 /home/yang.zhiyu/ForestFire/datasets/ForestFire2023-4/test/images/DJI_0704_JPG.rf.004223042d833f82d824bc4e466e9328.jpg: 1024x1024 2 Alive Trees, 3 Dead Trees, 2 Debriss, 32.3ms\n",
      "image 43/80 /home/yang.zhiyu/ForestFire/datasets/ForestFire2023-4/test/images/DJI_0707_JPG.rf.dfd2118d4cefc76cd868b644418fa41d.jpg: 1024x1024 8 Alive Trees, 1 Dead Tree, 32.2ms\n",
      "image 44/80 /home/yang.zhiyu/ForestFire/datasets/ForestFire2023-4/test/images/Dkmx5MFdKr3_jpg.rf.c9178930aa1f5d27e6c70201d4bce3d9.jpg: 1024x1024 21 Alive Trees, 4 Dead Trees, 1 Debris, 32.4ms\n",
      "image 45/80 /home/yang.zhiyu/ForestFire/datasets/ForestFire2023-4/test/images/GTQtqmmI-UK_jpg.rf.0018a4eeb6540e28e695dc60618d679a.jpg: 1024x1024 28 Alive Trees, 1 Dead Tree, 32.4ms\n",
      "image 46/80 /home/yang.zhiyu/ForestFire/datasets/ForestFire2023-4/test/images/HLvabTG3onl_jpg.rf.d68e78449ec481fdbddf4f5af66a4252.jpg: 1024x1024 28 Alive Trees, 8 Dead Trees, 36.4ms\n",
      "image 47/80 /home/yang.zhiyu/ForestFire/datasets/ForestFire2023-4/test/images/IlA1A5hPRs_jpg.rf.90325fdc65614e92d6dce637bf8c27b4.jpg: 1024x1024 33 Alive Trees, 9 Dead Trees, 32.5ms\n",
      "image 48/80 /home/yang.zhiyu/ForestFire/datasets/ForestFire2023-4/test/images/JYoR_EayQkf_jpg.rf.3f333266e1dbe9d7cd008386019dec13.jpg: 1024x1024 13 Alive Trees, 1 Beetle-Fire Tree, 12 Dead Trees, 2 Debriss, 32.2ms\n",
      "image 49/80 /home/yang.zhiyu/ForestFire/datasets/ForestFire2023-4/test/images/LRVmyp-KnLJ_jpg.rf.720bca496db2ec654e68a7fd5d13441f.jpg: 1024x1024 76 Alive Trees, 2 Beetle-Fire Trees, 77 Dead Trees, 5 Debriss, 32.3ms\n",
      "image 50/80 /home/yang.zhiyu/ForestFire/datasets/ForestFire2023-4/test/images/OXtOESX3BWM_jpg.rf.79f37349665af209f26dbc3280db23ed.jpg: 1024x1024 54 Alive Trees, 2 Dead Trees, 18 Debriss, 32.2ms\n",
      "image 51/80 /home/yang.zhiyu/ForestFire/datasets/ForestFire2023-4/test/images/OmQzQ5_63YL_jpg.rf.ffb64647ad45f5bf0ff0e6e08dd338c9.jpg: 1024x1024 17 Alive Trees, 1 Beetle-Fire Tree, 15 Dead Trees, 32.3ms\n",
      "image 52/80 /home/yang.zhiyu/ForestFire/datasets/ForestFire2023-4/test/images/P6Z9-HC0w4a_jpg.rf.0820063e1cf991b164d00d5eb2ee5511.jpg: 1024x1024 48 Alive Trees, 7 Beetle-Fire Trees, 10 Dead Trees, 4 Debriss, 32.2ms\n",
      "image 53/80 /home/yang.zhiyu/ForestFire/datasets/ForestFire2023-4/test/images/Vms-livN3DN_jpg.rf.d97b99f9aeaf56a37a5b027d4746d856.jpg: 1024x1024 29 Alive Trees, 1 Beetle-Fire Tree, 10 Dead Trees, 32.3ms\n",
      "image 54/80 /home/yang.zhiyu/ForestFire/datasets/ForestFire2023-4/test/images/Vn4YCKnD-yU_jpg.rf.ae746439138c8f684d0d5a35c090588e.jpg: 1024x1024 26 Alive Trees, 3 Debriss, 32.3ms\n",
      "image 55/80 /home/yang.zhiyu/ForestFire/datasets/ForestFire2023-4/test/images/_9AsASyAbtS_jpg.rf.fafba5def2d8efe2d57e06db57fc78be.jpg: 1024x1024 25 Alive Trees, 2 Dead Trees, 32.2ms\n",
      "image 56/80 /home/yang.zhiyu/ForestFire/datasets/ForestFire2023-4/test/images/_FZVWTnmyOM_jpg.rf.4db79866912e12ae0e443fc7fb3b33e1.jpg: 1024x1024 40 Alive Trees, 3 Beetle-Fire Trees, 5 Dead Trees, 2 Debriss, 32.2ms\n",
      "image 57/80 /home/yang.zhiyu/ForestFire/datasets/ForestFire2023-4/test/images/_GsdPF7IasE_jpg.rf.7f53831d1a179a22166bbff3b6016118.jpg: 1024x1024 40 Alive Trees, 7 Beetle-Fire Trees, 15 Debriss, 32.3ms\n",
      "image 58/80 /home/yang.zhiyu/ForestFire/datasets/ForestFire2023-4/test/images/_Pj1B8PP3N__jpg.rf.c288b94195cc199fafc692bd56aadbdc.jpg: 1024x1024 30 Alive Trees, 7 Dead Trees, 1 Debris, 32.2ms\n",
      "image 59/80 /home/yang.zhiyu/ForestFire/datasets/ForestFire2023-4/test/images/_l3K1p_2biZX_jpg.rf.a929e43573204063a2580d198115f7a3.jpg: 1024x1024 78 Alive Trees, 5 Beetle-Fire Trees, 121 Dead Trees, 2 Debriss, 32.5ms\n",
      "image 60/80 /home/yang.zhiyu/ForestFire/datasets/ForestFire2023-4/test/images/ahLBtELO68K_jpg.rf.7bcaa59a2a2b304b41743f6028711405.jpg: 1024x1024 152 Alive Trees, 41 Dead Trees, 32.2ms\n",
      "image 61/80 /home/yang.zhiyu/ForestFire/datasets/ForestFire2023-4/test/images/fPWI7P2lSb_jpg.rf.6050b80d7d380430371263864f56adbd.jpg: 1024x1024 18 Alive Trees, 7 Dead Trees, 32.3ms\n",
      "image 62/80 /home/yang.zhiyu/ForestFire/datasets/ForestFire2023-4/test/images/foOwB3J8t5_jpg.rf.fb7f08987378a7aeec6754642f09d27e.jpg: 1024x1024 26 Alive Trees, 11 Dead Trees, 32.3ms\n",
      "image 63/80 /home/yang.zhiyu/ForestFire/datasets/ForestFire2023-4/test/images/giSEY2h38mo_jpg.rf.68af3de21d74f693320a99a780dc53b1.jpg: 1024x1024 20 Alive Trees, 1 Beetle-Fire Tree, 12 Dead Trees, 1 Debris, 32.1ms\n",
      "image 64/80 /home/yang.zhiyu/ForestFire/datasets/ForestFire2023-4/test/images/hMO8GTKiOb3d_jpg.rf.536c4dcf08053b28a84b9586528c735d.jpg: 1024x1024 25 Alive Trees, 20 Dead Trees, 2 Debriss, 32.3ms\n",
      "image 65/80 /home/yang.zhiyu/ForestFire/datasets/ForestFire2023-4/test/images/iFnDeiEskv_jpg.rf.ce3ae968da21a3001123db5b3040897c.jpg: 1024x1024 31 Alive Trees, 6 Dead Trees, 32.5ms\n",
      "image 66/80 /home/yang.zhiyu/ForestFire/datasets/ForestFire2023-4/test/images/jxu4z8FstE_jpg.rf.6fcee4075075af6d8315f8004224b64e.jpg: 1024x1024 28 Alive Trees, 3 Dead Trees, 32.2ms\n",
      "image 67/80 /home/yang.zhiyu/ForestFire/datasets/ForestFire2023-4/test/images/ksEJAwYkSL__jpg.rf.fc0d0b1178c4daaac82133137fd389c7.jpg: 1024x1024 18 Alive Trees, 4 Dead Trees, 9 Debriss, 32.2ms\n",
      "image 68/80 /home/yang.zhiyu/ForestFire/datasets/ForestFire2023-4/test/images/n2tVdBNvdVI_jpg.rf.5ab3b300b9c12d65dcb9777a20199b0e.jpg: 1024x1024 47 Alive Trees, 19 Beetle-Fire Trees, 25 Dead Trees, 32.4ms\n",
      "image 69/80 /home/yang.zhiyu/ForestFire/datasets/ForestFire2023-4/test/images/nHokUYu1Y8a_jpg.rf.aa3274b8daa58ee8a022bc4767537cf0.jpg: 1024x1024 70 Alive Trees, 2 Beetle-Fire Trees, 1 Dead Tree, 18 Debriss, 32.3ms\n",
      "image 70/80 /home/yang.zhiyu/ForestFire/datasets/ForestFire2023-4/test/images/nal0C9BJjEV_jpg.rf.21fc130c3ba6a10fe208b7bd0ca2de46.jpg: 1024x1024 53 Alive Trees, 23 Beetle-Fire Trees, 17 Dead Trees, 4 Debriss, 32.3ms\n",
      "image 71/80 /home/yang.zhiyu/ForestFire/datasets/ForestFire2023-4/test/images/pUR_Q9SXKAI_jpg.rf.90dae7fb0e2fa49d109299ce003c7fd5.jpg: 1024x1024 31 Alive Trees, 7 Dead Trees, 1 Debris, 32.3ms\n",
      "image 72/80 /home/yang.zhiyu/ForestFire/datasets/ForestFire2023-4/test/images/qJwlf6p2b1l_jpg.rf.525d77e5902d079bbffcd5f4cbc325c6.jpg: 1024x1024 23 Alive Trees, 6 Dead Trees, 32.2ms\n",
      "image 73/80 /home/yang.zhiyu/ForestFire/datasets/ForestFire2023-4/test/images/rD_fqDa_7Ym_jpg.rf.90176f9f8384ff9856dd95290bcb3db5.jpg: 1024x1024 36 Alive Trees, 3 Dead Trees, 2 Debriss, 32.3ms\n",
      "image 74/80 /home/yang.zhiyu/ForestFire/datasets/ForestFire2023-4/test/images/rw9qyaWxPbN_jpg.rf.5ecd340b88937b42b433152b01ecd992.jpg: 1024x1024 29 Alive Trees, 10 Dead Trees, 32.3ms\n",
      "image 75/80 /home/yang.zhiyu/ForestFire/datasets/ForestFire2023-4/test/images/vPREOylf_08_jpg.rf.9aa920ba21bd9a9d6ec8ffeb18b23e2d.jpg: 1024x1024 31 Alive Trees, 5 Dead Trees, 32.4ms\n",
      "image 76/80 /home/yang.zhiyu/ForestFire/datasets/ForestFire2023-4/test/images/wOYlxFkuiI1_jpg.rf.2828c13d2d65913b171d99dfb97619e2.jpg: 1024x1024 59 Alive Trees, 36 Beetle-Fire Trees, 18 Dead Trees, 7 Debriss, 32.3ms\n",
      "image 77/80 /home/yang.zhiyu/ForestFire/datasets/ForestFire2023-4/test/images/wc9T-DDEabN_jpg.rf.c6d5a4e8fbc0546e4cb946a5e8049e0a.jpg: 1024x1024 36 Alive Trees, 1 Beetle-Fire Tree, 10 Dead Trees, 2 Debriss, 32.6ms\n",
      "image 78/80 /home/yang.zhiyu/ForestFire/datasets/ForestFire2023-4/test/images/xzPZk3dxcD_jpg.rf.e5108dc186353645a3960c5f6c5abff2.jpg: 1024x1024 33 Alive Trees, 1 Beetle-Fire Tree, 18 Dead Trees, 32.3ms\n",
      "image 79/80 /home/yang.zhiyu/ForestFire/datasets/ForestFire2023-4/test/images/yGJ4EkfoR2N_jpg.rf.0682411d99f0082bbe18208dc9eecc4b.jpg: 1024x1024 99 Alive Trees, 43 Dead Trees, 32.3ms\n",
      "image 80/80 /home/yang.zhiyu/ForestFire/datasets/ForestFire2023-4/test/images/ykLDYRr54On_jpg.rf.7ffd3d0d8bd81ada80bc0f355159fef8.jpg: 1024x1024 39 Alive Trees, 1 Beetle-Fire Tree, 18 Dead Trees, 1 Debris, 32.3ms\n",
      "Speed: 1.0ms pre-process, 32.5ms inference, 2.1ms postprocess per image at shape (1, 3, 1024, 1024)\n",
      "Results saved to \u001b[1mruns/detect/predict\u001b[0m\n",
      "80 labels saved to runs/detect/predict/labels\n"
     ]
    }
   ],
   "source": [
    "# predict images with model YOLOv8\n",
    "%cd yolov8\n",
    "from ultralytics import YOLO\n",
    "# Load a model\n",
    "model = YOLO(\"yolov8l.pt\")  # load an official model\n",
    "model = YOLO(\"runs/detect/train/weights/best.pt\")  # load a custom model\n",
    "\n",
    "# Predict with the model\n",
    "results = model.predict(source=\"../datasets/ForestFire2023-4/test/images\", conf=0.25, save_txt=True, save_conf=True, save=True)  # predict on an image"
   ]
  },
  {
   "cell_type": "code",
   "execution_count": 6,
   "id": "4e46b9b3-d633-4f53-96f6-3c6da4332371",
   "metadata": {},
   "outputs": [
    {
     "name": "stdout",
     "output_type": "stream",
     "text": [
      "[Errno 2] No such file or directory: './ForestMapping'\n",
      "/home/yang.zhiyu/ForestFire/ForestMapping\n",
      "\n",
      "Merging bounding boxes...\n",
      "A total of 80 images to be read.\n",
      "80 images read.\n",
      "A total of 80 images are read from \"../datasets/ForestFire2023-4/test/images\". 80 corresponding files of bounding boxes info are read from \"../yolov8/runs/detect/predict/labels\".\n",
      "Merged boxes' visualizations saved to \"visualize\"\n",
      "`imgs_merged_boxes` variable returned.\n",
      "\n",
      "Mapping bounding boxes...\n",
      "A total of 80 images to be read.\n",
      "80 images read.\n",
      "A total of 80 images are read from \"../datasets/ForestFire2023-4/test/images\".\n",
      "Start mapping alive, beetle/fire, dead trees and debris in each image with colours.\n",
      "0/80 images are processed.\n",
      "5/80 images are processed.\n",
      "10/80 images are processed.\n",
      "15/80 images are processed.\n",
      "20/80 images are processed.\n",
      "25/80 images are processed.\n",
      "30/80 images are processed.\n",
      "35/80 images are processed.\n",
      "40/80 images are processed.\n",
      "45/80 images are processed.\n",
      "50/80 images are processed.\n",
      "55/80 images are processed.\n",
      "60/80 images are processed.\n",
      "65/80 images are processed.\n",
      "70/80 images are processed.\n",
      "75/80 images are processed.\n",
      "All alive & dead trees are mapped with yellow or red colours across 80 images.\n",
      "Mapped images are saved in \"output\".\n",
      "\n",
      "Saving merged bounding boxes...\n",
      "Merged boxes saved as \"output/out_boxes.json\"\n"
     ]
    }
   ],
   "source": [
    "# run mapping code\n",
    "%cd ../ForestMapping\n",
    "!python3 ./main.py --images-path ../datasets/ForestFire2023-4/test/images --labels-path ../yolov8/runs/detect/predict/labels --out-path output  --distance  50"
   ]
  },
  {
   "cell_type": "code",
   "execution_count": null,
   "id": "c3142052-9055-461e-846d-874aaaf2164f",
   "metadata": {},
   "outputs": [],
   "source": []
  }
 ],
 "metadata": {
  "kernelspec": {
   "display_name": "Python 3",
   "language": "python",
   "name": "python3"
  },
  "language_info": {
   "codemirror_mode": {
    "name": "ipython",
    "version": 3
   },
   "file_extension": ".py",
   "mimetype": "text/x-python",
   "name": "python",
   "nbconvert_exporter": "python",
   "pygments_lexer": "ipython3",
   "version": "3.8.8"
  }
 },
 "nbformat": 4,
 "nbformat_minor": 5
}
